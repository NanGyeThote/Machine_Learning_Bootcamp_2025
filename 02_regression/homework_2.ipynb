{
 "cells": [
  {
   "cell_type": "code",
   "execution_count": 44,
   "id": "dd739abe-d854-46e8-8c7c-7dc75f60d2c3",
   "metadata": {},
   "outputs": [],
   "source": [
    "import pandas as pd\n",
    "import numpy as np\n",
    "import seaborn as sns"
   ]
  },
  {
   "cell_type": "code",
   "execution_count": 197,
   "id": "f258b7a1-68e4-4b4c-bd9b-d27a788590bd",
   "metadata": {},
   "outputs": [],
   "source": [
    "url = 'https://raw.githubusercontent.com/alexeygrigorev/datasets/master/car_fuel_efficiency.csv'\n",
    "df = pd.read_csv(url)"
   ]
  },
  {
   "cell_type": "markdown",
   "id": "137c535b-6dd0-4323-91dc-27bff01b50d7",
   "metadata": {},
   "source": [
    "Use only the following columns:\r\n",
    "\r\n",
    "'engine_displacement',\r\n",
    "'horsepower',\r\n",
    "'vehicle_weight',\r\n",
    "'model_year',\r\n",
    "'fuel_efficiency_mpg'"
   ]
  },
  {
   "cell_type": "code",
   "execution_count": 198,
   "id": "82955b5c-c645-444c-9907-4a4f0d06cd36",
   "metadata": {},
   "outputs": [],
   "source": [
    "df = df[['engine_displacement', 'horsepower', 'vehicle_weight', 'model_year', 'fuel_efficiency_mpg']]"
   ]
  },
  {
   "cell_type": "code",
   "execution_count": 199,
   "id": "f2694629-806b-479b-876b-9ecff80a23ef",
   "metadata": {},
   "outputs": [
    {
     "data": {
      "text/html": [
       "<div>\n",
       "<style scoped>\n",
       "    .dataframe tbody tr th:only-of-type {\n",
       "        vertical-align: middle;\n",
       "    }\n",
       "\n",
       "    .dataframe tbody tr th {\n",
       "        vertical-align: top;\n",
       "    }\n",
       "\n",
       "    .dataframe thead th {\n",
       "        text-align: right;\n",
       "    }\n",
       "</style>\n",
       "<table border=\"1\" class=\"dataframe\">\n",
       "  <thead>\n",
       "    <tr style=\"text-align: right;\">\n",
       "      <th></th>\n",
       "      <th>engine_displacement</th>\n",
       "      <th>horsepower</th>\n",
       "      <th>vehicle_weight</th>\n",
       "      <th>model_year</th>\n",
       "      <th>fuel_efficiency_mpg</th>\n",
       "    </tr>\n",
       "  </thead>\n",
       "  <tbody>\n",
       "    <tr>\n",
       "      <th>0</th>\n",
       "      <td>170</td>\n",
       "      <td>159.0</td>\n",
       "      <td>3413.433759</td>\n",
       "      <td>2003</td>\n",
       "      <td>13.231729</td>\n",
       "    </tr>\n",
       "    <tr>\n",
       "      <th>1</th>\n",
       "      <td>130</td>\n",
       "      <td>97.0</td>\n",
       "      <td>3149.664934</td>\n",
       "      <td>2007</td>\n",
       "      <td>13.688217</td>\n",
       "    </tr>\n",
       "    <tr>\n",
       "      <th>2</th>\n",
       "      <td>170</td>\n",
       "      <td>78.0</td>\n",
       "      <td>3079.038997</td>\n",
       "      <td>2018</td>\n",
       "      <td>14.246341</td>\n",
       "    </tr>\n",
       "    <tr>\n",
       "      <th>3</th>\n",
       "      <td>220</td>\n",
       "      <td>NaN</td>\n",
       "      <td>2542.392402</td>\n",
       "      <td>2009</td>\n",
       "      <td>16.912736</td>\n",
       "    </tr>\n",
       "    <tr>\n",
       "      <th>4</th>\n",
       "      <td>210</td>\n",
       "      <td>140.0</td>\n",
       "      <td>3460.870990</td>\n",
       "      <td>2009</td>\n",
       "      <td>12.488369</td>\n",
       "    </tr>\n",
       "  </tbody>\n",
       "</table>\n",
       "</div>"
      ],
      "text/plain": [
       "   engine_displacement  horsepower  vehicle_weight  model_year  \\\n",
       "0                  170       159.0     3413.433759        2003   \n",
       "1                  130        97.0     3149.664934        2007   \n",
       "2                  170        78.0     3079.038997        2018   \n",
       "3                  220         NaN     2542.392402        2009   \n",
       "4                  210       140.0     3460.870990        2009   \n",
       "\n",
       "   fuel_efficiency_mpg  \n",
       "0            13.231729  \n",
       "1            13.688217  \n",
       "2            14.246341  \n",
       "3            16.912736  \n",
       "4            12.488369  "
      ]
     },
     "execution_count": 199,
     "metadata": {},
     "output_type": "execute_result"
    }
   ],
   "source": [
    "df.head()"
   ]
  },
  {
   "cell_type": "markdown",
   "id": "0bc792ef-95fa-4a20-b58d-36c89a8475bd",
   "metadata": {},
   "source": [
    "### Question 1\r\n",
    "There's one column with missing values. What is it?\r\n",
    "\r\n",
    "'engine_displacement'\r\n",
    "'horsepower'\r\n",
    "'vehicle_weight'\r\n",
    "'model_year'"
   ]
  },
  {
   "cell_type": "code",
   "execution_count": 5,
   "id": "f8971084-240d-410a-8f17-7661064c6fe1",
   "metadata": {},
   "outputs": [
    {
     "data": {
      "text/plain": [
       "engine_displacement      0\n",
       "horsepower             708\n",
       "vehicle_weight           0\n",
       "model_year               0\n",
       "fuel_efficiency_mpg      0\n",
       "dtype: int64"
      ]
     },
     "execution_count": 5,
     "metadata": {},
     "output_type": "execute_result"
    }
   ],
   "source": [
    "df.isnull().sum()"
   ]
  },
  {
   "cell_type": "code",
   "execution_count": 6,
   "id": "13588334-ff29-4d5a-94f6-072af32e9a17",
   "metadata": {},
   "outputs": [
    {
     "name": "stdout",
     "output_type": "stream",
     "text": [
      "Answer missing value: horsepower\n"
     ]
    }
   ],
   "source": [
    "print(f\"Answer missing value: {df.columns[1]}\")"
   ]
  },
  {
   "cell_type": "markdown",
   "id": "11657905-1c83-4421-956c-124b766f1f26",
   "metadata": {},
   "source": [
    "### Question 2\r\n",
    "What's the median (50% percentile) for variable 'horsepower'?\r\n",
    "\r\n",
    "49\r\n",
    "99\r\n",
    "149\r\n",
    "199"
   ]
  },
  {
   "cell_type": "code",
   "execution_count": 7,
   "id": "fcff2e61-f670-4928-b21a-89cb3058a7e3",
   "metadata": {},
   "outputs": [
    {
     "name": "stdout",
     "output_type": "stream",
     "text": [
      "149.0\n"
     ]
    }
   ],
   "source": [
    "med_v = df['horsepower'].median()\n",
    "print(med_v)"
   ]
  },
  {
   "cell_type": "markdown",
   "id": "49aa4110-8c50-4855-9d64-46ba8bfb9b32",
   "metadata": {},
   "source": [
    "### Prepare and split the datasetres"
   ]
  },
  {
   "cell_type": "code",
   "execution_count": 8,
   "id": "ff972252-1f4e-431e-993b-f82c7c5b8897",
   "metadata": {},
   "outputs": [],
   "source": [
    "# Shuffle Dataset\n",
    "\n",
    "n = len(df)\n",
    "n_val = int(n*0.2)\n",
    "n_test = int(n*0.2)\n",
    "n_train = n - n_val - n_test"
   ]
  },
  {
   "cell_type": "code",
   "execution_count": 9,
   "id": "5bde69da-3697-428c-b26c-af615335e88c",
   "metadata": {},
   "outputs": [
    {
     "data": {
      "text/plain": [
       "(1940, 1940, 5824)"
      ]
     },
     "execution_count": 9,
     "metadata": {},
     "output_type": "execute_result"
    }
   ],
   "source": [
    "n_val, n_test, n_train"
   ]
  },
  {
   "cell_type": "code",
   "execution_count": 10,
   "id": "cd2cbd6b-c513-40ab-ab22-9382bdca42b3",
   "metadata": {},
   "outputs": [],
   "source": [
    "df_train = df.iloc[:n_train]\n",
    "df_val = df.iloc[n_train:n_train + n_val]\n",
    "df_test = df.iloc[n_train + n_val:]"
   ]
  },
  {
   "cell_type": "code",
   "execution_count": 11,
   "id": "b5a8029a-0e10-421a-9096-c820ec18c8a6",
   "metadata": {},
   "outputs": [
    {
     "data": {
      "text/plain": [
       "(5824, 1940, 1940)"
      ]
     },
     "execution_count": 11,
     "metadata": {},
     "output_type": "execute_result"
    }
   ],
   "source": [
    "len(df_train), len(df_val), len(df_test)"
   ]
  },
  {
   "cell_type": "code",
   "execution_count": 12,
   "id": "5a6dd2a5-a383-499e-bdd4-2512ea9a91c1",
   "metadata": {},
   "outputs": [],
   "source": [
    "idx = np.arange(n)\n",
    "np.random.seed(42)\n",
    "np.random.shuffle(idx)"
   ]
  },
  {
   "cell_type": "code",
   "execution_count": 13,
   "id": "2a9ce686-04d3-4d24-b461-b65347876154",
   "metadata": {},
   "outputs": [
    {
     "data": {
      "text/plain": [
       "array([ 483, 7506, 8795, ..., 5390,  860, 7270])"
      ]
     },
     "execution_count": 13,
     "metadata": {},
     "output_type": "execute_result"
    }
   ],
   "source": [
    "idx"
   ]
  },
  {
   "cell_type": "code",
   "execution_count": 14,
   "id": "b767b828-74fa-4a48-98f2-35f0c6aa77e1",
   "metadata": {},
   "outputs": [],
   "source": [
    "df_train = df.iloc[idx[:n_train]]\n",
    "df_val = df.iloc[idx[n_train:n_train + n_val]]\n",
    "df_test = df.iloc[idx[n_train + n_val:]]"
   ]
  },
  {
   "cell_type": "code",
   "execution_count": 15,
   "id": "88327ee0-994a-4df1-b75a-8a6c9e457f77",
   "metadata": {},
   "outputs": [],
   "source": [
    "df_train = df_train.reset_index(drop=True)\n",
    "df_val = df_val.reset_index(drop=True)\n",
    "df_test = df_test.reset_index(drop=True)"
   ]
  },
  {
   "cell_type": "code",
   "execution_count": 16,
   "id": "b82047ea-d7a5-4f03-ab83-0e42925d7f14",
   "metadata": {},
   "outputs": [],
   "source": [
    "y_train = np.log1p(df_train.fuel_efficiency_mpg.values)\n",
    "y_test = np.log1p(df_test.fuel_efficiency_mpg.values)\n",
    "y_val = np.log1p(df_val.fuel_efficiency_mpg.values)"
   ]
  },
  {
   "cell_type": "code",
   "execution_count": 17,
   "id": "12b6498b-eb0a-4b28-ab99-44f15330610e",
   "metadata": {},
   "outputs": [],
   "source": [
    "del df_train['fuel_efficiency_mpg']\n",
    "del df_val['fuel_efficiency_mpg']\n",
    "del df_test['fuel_efficiency_mpg']"
   ]
  },
  {
   "cell_type": "code",
   "execution_count": 18,
   "id": "d937ff7e-fa08-454c-aade-a222c973d8de",
   "metadata": {},
   "outputs": [
    {
     "data": {
      "text/plain": [
       "(5824, 1940, 1940)"
      ]
     },
     "execution_count": 18,
     "metadata": {},
     "output_type": "execute_result"
    }
   ],
   "source": [
    "len(df_train), len(df_val), len(df_test)"
   ]
  },
  {
   "cell_type": "code",
   "execution_count": 19,
   "id": "796655f1-1ae9-491a-a8e5-7f2db09e53c5",
   "metadata": {},
   "outputs": [
    {
     "data": {
      "text/plain": [
       "(5824, 1940, 1940)"
      ]
     },
     "execution_count": 19,
     "metadata": {},
     "output_type": "execute_result"
    }
   ],
   "source": [
    "len(y_train), len(y_val), len(y_test)"
   ]
  },
  {
   "cell_type": "markdown",
   "id": "cdee3174-e354-48da-bd5f-d5508c1caf1d",
   "metadata": {},
   "source": [
    "### Question3:"
   ]
  },
  {
   "cell_type": "code",
   "execution_count": 40,
   "id": "5cf2f1e6-096d-4058-a6ba-76a5dc45e71d",
   "metadata": {},
   "outputs": [],
   "source": [
    "# Building a linear_regression model\n",
    "def train_linear_regression(X, y):\n",
    "    ones = np.ones(X.shape[0])\n",
    "    X = np.column_stack([ones, X])\n",
    "\n",
    "    XTX = X.T.dot(X)\n",
    "    XTX_inv = np.linalg.inv(XTX)\n",
    "    w_full = XTX_inv.dot(X.T).dot(y)\n",
    "    return w_full[0], w_full[1:]"
   ]
  },
  {
   "cell_type": "code",
   "execution_count": 26,
   "id": "d2eb4371-d952-4aed-81b0-e397405fec06",
   "metadata": {},
   "outputs": [
    {
     "data": {
      "text/plain": [
       "Index(['engine_displacement', 'horsepower', 'vehicle_weight', 'model_year',\n",
       "       'fuel_efficiency_mpg'],\n",
       "      dtype='object')"
      ]
     },
     "execution_count": 26,
     "metadata": {},
     "output_type": "execute_result"
    }
   ],
   "source": [
    "# Getting the Features\n",
    "df.columns"
   ]
  },
  {
   "cell_type": "code",
   "execution_count": 47,
   "id": "006b63d3-427b-4bb7-aae6-4228e6d6e172",
   "metadata": {},
   "outputs": [
    {
     "data": {
      "text/plain": [
       "engine_displacement      0\n",
       "horsepower             429\n",
       "vehicle_weight           0\n",
       "model_year               0\n",
       "dtype: int64"
      ]
     },
     "execution_count": 47,
     "metadata": {},
     "output_type": "execute_result"
    }
   ],
   "source": [
    "features = ['engine_displacement', 'horsepower', 'vehicle_weight', 'model_year']\n",
    "\n",
    "df_train[features].isnull().sum()"
   ]
  },
  {
   "cell_type": "markdown",
   "id": "a8df4b1a-f39a-48e1-917b-157bb3a2dca1",
   "metadata": {},
   "source": [
    "### 3.1: Fill with 0"
   ]
  },
  {
   "cell_type": "code",
   "execution_count": 159,
   "id": "da0f16dd-71a5-413c-9012-dc76b717c37d",
   "metadata": {},
   "outputs": [],
   "source": [
    "# Features\n",
    "X_train = df_train[features].fillna(0).values\n",
    "X_val = df_val[features].fillna(0).values"
   ]
  },
  {
   "cell_type": "code",
   "execution_count": 160,
   "id": "7d2993e6-2ea0-4f3c-897d-27a3cee52b00",
   "metadata": {},
   "outputs": [
    {
     "data": {
      "text/plain": [
       "(5824, 5824, 1940, 1940)"
      ]
     },
     "execution_count": 160,
     "metadata": {},
     "output_type": "execute_result"
    }
   ],
   "source": [
    "# Check Dimension\n",
    "len(X_train), len(y_train), len(X_val), len(y_val)"
   ]
  },
  {
   "cell_type": "code",
   "execution_count": 161,
   "id": "7800c4a9-22f6-426d-a394-c14afaade540",
   "metadata": {},
   "outputs": [],
   "source": [
    "# training\n",
    "w0, w = train_linear_regression(X_val, y_val)"
   ]
  },
  {
   "cell_type": "code",
   "execution_count": 162,
   "id": "38784666-1fa8-46b9-9579-2f7b8db61232",
   "metadata": {},
   "outputs": [],
   "source": [
    "y_pred = w0 + X_val.dot(w) # -> y = b + mx"
   ]
  },
  {
   "cell_type": "code",
   "execution_count": 163,
   "id": "92ced83a-8850-4744-a030-2fe9b47f9e0b",
   "metadata": {},
   "outputs": [
    {
     "name": "stderr",
     "output_type": "stream",
     "text": [
      "D:\\anaconda\\Lib\\site-packages\\seaborn\\_oldcore.py:1119: FutureWarning: use_inf_as_na option is deprecated and will be removed in a future version. Convert inf values to NaN before operating instead.\n",
      "  with pd.option_context('mode.use_inf_as_na', True):\n",
      "D:\\anaconda\\Lib\\site-packages\\seaborn\\_oldcore.py:1119: FutureWarning: use_inf_as_na option is deprecated and will be removed in a future version. Convert inf values to NaN before operating instead.\n",
      "  with pd.option_context('mode.use_inf_as_na', True):\n"
     ]
    },
    {
     "data": {
      "text/plain": [
       "<Axes: ylabel='Count'>"
      ]
     },
     "execution_count": 163,
     "metadata": {},
     "output_type": "execute_result"
    },
    {
     "data": {
      "image/png": "[encoded data removed]",
      "text/plain": [
       "<Figure size 640x480 with 1 Axes>"
      ]
     },
     "metadata": {},
     "output_type": "display_data"
    }
   ],
   "source": [
    "sns.histplot(y_pred, color='red', bins=50)\n",
    "sns.histplot(y_val, color='blue', bins=50)"
   ]
  },
  {
   "cell_type": "code",
   "execution_count": 164,
   "id": "0a8dee18-693f-44cc-a4ab-105bb7586685",
   "metadata": {},
   "outputs": [],
   "source": [
    "# Finding RMSE\n",
    "def rmse(y, y_pred):\n",
    "    error = y_pred - y\n",
    "    se = error ** 2\n",
    "    mse = se.mean()\n",
    "    return np.sqrt(mse)"
   ]
  },
  {
   "cell_type": "code",
   "execution_count": 165,
   "id": "ba6f97e5-5919-4f60-b2fd-beadfc3e27f4",
   "metadata": {},
   "outputs": [
    {
     "name": "stdout",
     "output_type": "stream",
     "text": [
      "With 0 fill: 0.04\n"
     ]
    }
   ],
   "source": [
    "print(f\"With 0 fill: {rmse(y_val, y_pred):.2f}\")"
   ]
  },
  {
   "cell_type": "code",
   "execution_count": 166,
   "id": "5e79f392-61eb-4b2f-acf0-ecfc53bb763c",
   "metadata": {},
   "outputs": [
    {
     "data": {
      "text/plain": [
       "(1940, 1940)"
      ]
     },
     "execution_count": 166,
     "metadata": {},
     "output_type": "execute_result"
    }
   ],
   "source": [
    "len(y_pred), len(y_val)"
   ]
  },
  {
   "cell_type": "markdown",
   "id": "7b7249e2-30af-482b-be8e-3c9720b783df",
   "metadata": {},
   "source": [
    "### 3.1: Fill with median of its columns"
   ]
  },
  {
   "cell_type": "code",
   "execution_count": 167,
   "id": "3c2f55f4-2f5e-4456-9e8b-949f8feb011d",
   "metadata": {},
   "outputs": [
    {
     "data": {
      "text/plain": [
       "engine_displacement      0\n",
       "horsepower             429\n",
       "vehicle_weight           0\n",
       "model_year               0\n",
       "dtype: int64"
      ]
     },
     "execution_count": 167,
     "metadata": {},
     "output_type": "execute_result"
    }
   ],
   "source": [
    "df_train.isnull().sum()"
   ]
  },
  {
   "cell_type": "code",
   "execution_count": 169,
   "id": "d94c6fb7-bbb2-4f97-a26b-95f8cf8348da",
   "metadata": {},
   "outputs": [],
   "source": [
    "X_train = df_train[features].fillna(med_v).values\n",
    "X_val = df_val[features].fillna(med_v).values"
   ]
  },
  {
   "cell_type": "code",
   "execution_count": 170,
   "id": "8a1b56ec-c939-48db-ab45-04c4bfe099e5",
   "metadata": {},
   "outputs": [],
   "source": [
    "# X_train.isnull().sum() # -> Doesn't work on np arrays"
   ]
  },
  {
   "cell_type": "code",
   "execution_count": 171,
   "id": "7f451d00-5acb-4fdc-ad71-eacfbecee8b7",
   "metadata": {},
   "outputs": [],
   "source": [
    "w0, w = train_linear_regression(X_val, y_val)"
   ]
  },
  {
   "cell_type": "code",
   "execution_count": 172,
   "id": "37f9b073-a743-474d-896b-bc5808437c3f",
   "metadata": {},
   "outputs": [],
   "source": [
    "y_pred = w0 + X_val.dot(w)"
   ]
  },
  {
   "cell_type": "code",
   "execution_count": 173,
   "id": "fa1214f2-d663-4075-bf3f-0b4ccf5cabc7",
   "metadata": {},
   "outputs": [
    {
     "name": "stderr",
     "output_type": "stream",
     "text": [
      "D:\\anaconda\\Lib\\site-packages\\seaborn\\_oldcore.py:1119: FutureWarning: use_inf_as_na option is deprecated and will be removed in a future version. Convert inf values to NaN before operating instead.\n",
      "  with pd.option_context('mode.use_inf_as_na', True):\n",
      "D:\\anaconda\\Lib\\site-packages\\seaborn\\_oldcore.py:1119: FutureWarning: use_inf_as_na option is deprecated and will be removed in a future version. Convert inf values to NaN before operating instead.\n",
      "  with pd.option_context('mode.use_inf_as_na', True):\n"
     ]
    },
    {
     "data": {
      "text/plain": [
       "<Axes: ylabel='Count'>"
      ]
     },
     "execution_count": 173,
     "metadata": {},
     "output_type": "execute_result"
    },
    {
     "data": {
      "image/png": "[encoded data removed]",
      "text/plain": [
       "<Figure size 640x480 with 1 Axes>"
      ]
     },
     "metadata": {},
     "output_type": "display_data"
    }
   ],
   "source": [
    "sns.histplot(y_pred, color='red', bins=50)\n",
    "sns.histplot(y_val, color='blue', bins=50)"
   ]
  },
  {
   "cell_type": "code",
   "execution_count": 174,
   "id": "8c897c06-a3db-4806-beee-12e2f8fe207d",
   "metadata": {},
   "outputs": [
    {
     "name": "stdout",
     "output_type": "stream",
     "text": [
      "With median values fill: 0.04\n"
     ]
    }
   ],
   "source": [
    "print(f\"With median values fill: {rmse(y_val, y_pred):.2f}\")"
   ]
  },
  {
   "cell_type": "code",
   "execution_count": 175,
   "id": "058effc9-35a1-4368-926d-bf8df6c99737",
   "metadata": {},
   "outputs": [
    {
     "data": {
      "text/plain": [
       "(1940, 1940)"
      ]
     },
     "execution_count": 175,
     "metadata": {},
     "output_type": "execute_result"
    }
   ],
   "source": [
    "len(y_val), len(y_pred)"
   ]
  },
  {
   "cell_type": "code",
   "execution_count": 176,
   "id": "4c52d852-8e93-4847-86cd-52f3c55f50b4",
   "metadata": {},
   "outputs": [
    {
     "name": "stdout",
     "output_type": "stream",
     "text": [
      "Question 3: The Same\n"
     ]
    }
   ],
   "source": [
    "print(f\"Question 3: The Same\")"
   ]
  },
  {
   "cell_type": "markdown",
   "id": "c42b59de-59a1-4ede-9b18-b7089c97d653",
   "metadata": {},
   "source": [
    "### Regularization\n",
    "#### Try different values of r from this list: [0, 0.01, 0.1, 1, 5, 10, 100]"
   ]
  },
  {
   "cell_type": "code",
   "execution_count": 183,
   "id": "82104328-352f-4fd9-b30d-843bc1026f7d",
   "metadata": {},
   "outputs": [],
   "source": [
    "def train_linear_regression(X, y, r=0.001):\n",
    "    ones = np.ones(X.shape[0])\n",
    "    X = np.column_stack([ones, X])\n",
    "    XTX = X.T.dot(X)\n",
    "    XTX = XTX + r * np.eye(XTX.shape[0])\n",
    "    XTX_inv = np.linalg.inv(XTX)\n",
    "    w_full = XTX_inv.dot(X.T).dot(y)\n",
    "    return w_full[0], w_full[1:]"
   ]
  },
  {
   "cell_type": "code",
   "execution_count": 187,
   "id": "df7329e1-1417-4e0e-8f82-02d5dd4614e7",
   "metadata": {},
   "outputs": [
    {
     "name": "stdout",
     "output_type": "stream",
     "text": [
      "0\n",
      "0.01\n",
      "0.1\n",
      "1\n",
      "5\n",
      "10\n",
      "100\n"
     ]
    }
   ],
   "source": [
    "r_values = [0, 0.01, 0.1, 1, 5, 10, 100]\n",
    "rmses = list()\n",
    "for r in r_values:\n",
    "    print(r)\n",
    "    w0, w = train_linear_regression(X_val, y_val, r)\n",
    "    y_pred = w0 + X_val.dot(w)\n",
    "    rmse_value = rmse(y_val, y_pred)\n",
    "    rmses.append(rmse_value)"
   ]
  },
  {
   "cell_type": "code",
   "execution_count": 188,
   "id": "96b59b56-fc89-4d2e-9b31-7d927b692e83",
   "metadata": {},
   "outputs": [
    {
     "name": "stdout",
     "output_type": "stream",
     "text": [
      "0.04\n",
      "0.04\n",
      "0.04\n",
      "0.04\n",
      "0.04\n",
      "0.04\n",
      "0.04\n"
     ]
    }
   ],
   "source": [
    "for r in rmses:\n",
    "    print(f\"{r:.2f}\")"
   ]
  },
  {
   "cell_type": "code",
   "execution_count": 190,
   "id": "bd65f4b7-b0c7-4d3c-8bfa-1a45ac6c1a11",
   "metadata": {},
   "outputs": [
    {
     "name": "stdout",
     "output_type": "stream",
     "text": [
      "Question 4: 0\n"
     ]
    }
   ],
   "source": [
    "print(f\"Question 4: {r_values[0]}\")"
   ]
  },
  {
   "cell_type": "markdown",
   "id": "b01cfa9f-e0f8-4ea2-be42-d61593b37f5e",
   "metadata": {},
   "source": [
    "### Questoin: 5\n",
    "#### Try different seed values: [0, 1, 2, 3, 4, 5, 6, 7, 8, 9]"
   ]
  },
  {
   "cell_type": "code",
   "execution_count": 201,
   "id": "9f0f850a-e7c0-4db0-b68a-3524431714b6",
   "metadata": {},
   "outputs": [
    {
     "name": "stdout",
     "output_type": "stream",
     "text": [
      "Standard Deviation of RMSE scores: 0.001\n"
     ]
    }
   ],
   "source": [
    "seeds = [0, 1, 2, 3, 4, 5, 6, 7, 8, 9]\n",
    "rmse_scores = []\n",
    "\n",
    "for seed in seeds:\n",
    "    n = len(df)\n",
    "    n_val = int(n * 0.2)\n",
    "    n_test = int(n * 0.2)\n",
    "    n_train = n - n_val - n_test\n",
    "    \n",
    "    idx = np.arange(n)\n",
    "    np.random.seed(seed)\n",
    "    np.random.shuffle(idx)\n",
    "    \n",
    "    df_train = df.iloc[idx[:n_train]]\n",
    "    df_val = df.iloc[idx[n_train:n_train + n_val]]\n",
    "    \n",
    "    df_train = df_train.reset_index(drop=True)\n",
    "    df_val = df_val.reset_index(drop=True)\n",
    "    \n",
    "    y_train = np.log1p(df_train.fuel_efficiency_mpg.values)\n",
    "    y_val = np.log1p(df_val.fuel_efficiency_mpg.values)\n",
    "    \n",
    "    del df_train['fuel_efficiency_mpg']\n",
    "    del df_val['fuel_efficiency_mpg']\n",
    "    \n",
    "    X_train = df_train[features].fillna(0).values\n",
    "    X_val = df_val[features].fillna(0).values\n",
    "    \n",
    "    w0, w = train_linear_regression(X_train, y_train)\n",
    "    y_pred = w0 + X_val.dot(w)\n",
    "    \n",
    "    score = rmse(y_val, y_pred)\n",
    "    rmse_scores.append(score)\n",
    "\n",
    "std_dev = np.std(rmse_scores)\n",
    "print(f'Standard Deviation of RMSE scores: {round(std_dev, 3)}')"
   ]
  },
  {
   "cell_type": "code",
   "execution_count": 202,
   "id": "084beeb1-1212-425b-817b-ab92e2bcc025",
   "metadata": {},
   "outputs": [
    {
     "name": "stdout",
     "output_type": "stream",
     "text": [
      "RMSE on the test dataset: 0.039\n"
     ]
    }
   ],
   "source": [
    "# Split the data with seed 9\n",
    "n = len(df)\n",
    "n_val = int(n * 0.2)\n",
    "n_test = int(n * 0.2)\n",
    "n_train = n - n_val - n_test\n",
    "\n",
    "idx = np.arange(n)\n",
    "np.random.seed(9)\n",
    "np.random.shuffle(idx)\n",
    "\n",
    "df_train = df.iloc[idx[:n_train]]\n",
    "df_val = df.iloc[idx[n_train:n_train + n_val]]\n",
    "df_test = df.iloc[idx[n_train + n_val:]]\n",
    "\n",
    "df_full_train = pd.concat([df_train, df_val])\n",
    "df_full_train = df_full_train.reset_index(drop=True)\n",
    "\n",
    "y_full_train = np.log1p(df_full_train.fuel_efficiency_mpg.values)\n",
    "y_test = np.log1p(df_test.fuel_efficiency_mpg.values)\n",
    "\n",
    "del df_full_train['fuel_efficiency_mpg']\n",
    "del df_test['fuel_efficiency_mpg']\n",
    "\n",
    "X_full_train = df_full_train[features].fillna(0).values\n",
    "X_test = df_test[features].fillna(0).values\n",
    "w0, w = train_linear_regression(X_full_train, y_full_train, r=0.001)\n",
    "y_pred = w0 + X_test.dot(w)\n",
    "\n",
    "test_rmse = rmse(y_test, y_pred)\n",
    "print(f'RMSE on the test dataset: {test_rmse:.3f}')"
   ]
  },
  {
   "cell_type": "code",
   "execution_count": null,
   "id": "ec1e254f-c09e-4994-a23f-a5af05ae78ce",
   "metadata": {},
   "outputs": [],
   "source": []
  }
 ],
 "metadata": {
  "kernelspec": {
   "display_name": "Python 3 (ipykernel)",
   "language": "python",
   "name": "python3"
  },
  "language_info": {
   "codemirror_mode": {
    "name": "ipython",
    "version": 3
   },
   "file_extension": ".py",
   "mimetype": "text/x-python",
   "name": "python",
   "nbconvert_exporter": "python",
   "pygments_lexer": "ipython3",
   "version": "3.11.7"
  }
 },
 "nbformat": 4,
 "nbformat_minor": 5
}
